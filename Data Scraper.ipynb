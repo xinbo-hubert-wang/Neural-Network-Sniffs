{
 "cells": [
  {
   "cell_type": "markdown",
   "metadata": {},
   "source": [
    "## Data Scraper\n",
    "The data used in this project is from nosetime.com, a Chinese perfume lover community. "
   ]
  },
  {
   "cell_type": "code",
   "execution_count": 4,
   "metadata": {
    "ExecuteTime": {
     "end_time": "2021-06-09T08:07:24.774912Z",
     "start_time": "2021-06-09T08:07:24.751677Z"
    }
   },
   "outputs": [],
   "source": [
    "import requests\n",
    "from bs4 import BeautifulSoup\n",
    "import pandas as pd\n",
    "import time\n",
    "import json\n",
    "from multiprocess import Pool"
   ]
  },
  {
   "cell_type": "markdown",
   "metadata": {},
   "source": [
    "#### Get all brands and their urls"
   ]
  },
  {
   "cell_type": "code",
   "execution_count": 8,
   "metadata": {
    "ExecuteTime": {
     "end_time": "2021-06-09T08:10:52.125284Z",
     "start_time": "2021-06-09T08:10:51.855885Z"
    }
   },
   "outputs": [],
   "source": [
    "main = 'https://www.nosetime.com'\n",
    "headers = {\n",
    "    'User-Agent':'Mozilla/5.0 (Windows NT 10.0; Win64; x64) AppleWebKit/537.36 (KHTML, like Gecko) Chrome/91.0.4472.77 Safari/537.36 Edg/91.0.864.41'\n",
    "}\n",
    "\n",
    "pp_main_url = main + '/pinpai/'\n",
    "pp_main = requests.get(pp_main_url, headers=headers, timeout=1)\n",
    "pp_main_sp = BeautifulSoup(pp_main.content, 'html.parser')"
   ]
  },
  {
   "cell_type": "code",
   "execution_count": 9,
   "metadata": {
    "ExecuteTime": {
     "end_time": "2021-06-09T08:10:52.141246Z",
     "start_time": "2021-06-09T08:10:52.133269Z"
    }
   },
   "outputs": [],
   "source": [
    "pp_menu = pp_main_sp.find('div', attrs={'class':'brandmenu'}).find_all('li')\n",
    "\n",
    "menu_dict = {}\n",
    "for li in pp_menu:\n",
    "    menu_dict[li.text] = li.a['href']"
   ]
  },
  {
   "cell_type": "code",
   "execution_count": 10,
   "metadata": {
    "ExecuteTime": {
     "end_time": "2021-06-09T08:10:57.983477Z",
     "start_time": "2021-06-09T08:10:52.384715Z"
    }
   },
   "outputs": [],
   "source": [
    "brand_url = {}\n",
    "for menu, url in menu_dict.items():\n",
    "    pp_cat_url = main + url\n",
    "    pp_cat = requests.get(pp_cat_url, headers=headers, timeout=1)\n",
    "    pp_cat_sp = BeautifulSoup(pp_cat.content, 'html.parser')\n",
    "    pp_ls = pp_cat_sp.find('div', attrs={'class':'odorlist'}).find_all('li')\n",
    "    for pp in pp_ls:\n",
    "        tmp = pp.find_all('a')[1]\n",
    "        brand_url[tmp['href']] = (tmp.find('br').previous, tmp.find('br').next)"
   ]
  },
  {
   "cell_type": "code",
   "execution_count": 11,
   "metadata": {
    "ExecuteTime": {
     "end_time": "2021-06-09T08:10:57.999341Z",
     "start_time": "2021-06-09T08:10:57.985503Z"
    }
   },
   "outputs": [],
   "source": [
    "brands = pd.DataFrame(brand_url.values(), brand_url.keys())\n",
    "brands.columns = ['name_cn', 'name_en']\n",
    "brands['id'] = brands.index.map(lambda x: x.split('-')[0].split('/')[2])"
   ]
  },
  {
   "cell_type": "markdown",
   "metadata": {},
   "source": [
    "#### Query for all perfumes by brands\n",
    "Luckily I can use an API (strangely, the website didn't use any protection) to directly request the info. I use multiprocess to speed up the process."
   ]
  },
  {
   "cell_type": "code",
   "execution_count": 30,
   "metadata": {
    "ExecuteTime": {
     "end_time": "2021-06-09T08:43:04.986513Z",
     "start_time": "2021-06-09T08:43:04.972550Z"
    },
    "code_folding": [
     20
    ]
   },
   "outputs": [],
   "source": [
    "def crawl_item(b_id):\n",
    "    import requests\n",
    "    import json\n",
    "    import pandas as pd\n",
    "    page = 1\n",
    "    res = []\n",
    "    while True:\n",
    "        headers = {\n",
    "            'User-Agent':'Mozilla/5.0 (Windows NT 10.0; Win64; x64) AppleWebKit/537.36 (KHTML, like Gecko) Chrome/91.0.4472.77 Safari/537.36 Edg/91.0.864.41'\n",
    "        }\n",
    "        tpl = 'https://app.nosetime.com/app/search.php?type=item&in=brandid&word={}&page={}&orderby=hot&desc=-'\n",
    "        search_url = tpl.format(b_id, page)\n",
    "        search = requests.get(search_url, headers=headers)\n",
    "        search_content = json.loads(search.content)['item']['data']\n",
    "        if search_content:\n",
    "            tmp = pd.DataFrame(search_content)[['id']]\n",
    "            tmp['brand_id'] = b_id\n",
    "            res.append(tmp)\n",
    "            page += 1\n",
    "        else:\n",
    "            break\n",
    "    if res:\n",
    "        res = pd.concat(res)\n",
    "    else:\n",
    "        res = None\n",
    "    return res"
   ]
  },
  {
   "cell_type": "code",
   "execution_count": 31,
   "metadata": {
    "ExecuteTime": {
     "end_time": "2021-06-09T08:47:28.302735Z",
     "start_time": "2021-06-09T08:43:05.213788Z"
    }
   },
   "outputs": [],
   "source": [
    "with Pool(5) as p:\n",
    "    res = p.map(crawl_item, brands['id'])"
   ]
  },
  {
   "cell_type": "code",
   "execution_count": 33,
   "metadata": {
    "ExecuteTime": {
     "end_time": "2021-06-09T08:48:51.952438Z",
     "start_time": "2021-06-09T08:48:51.680778Z"
    }
   },
   "outputs": [],
   "source": [
    "items = pd.concat(res)"
   ]
  },
  {
   "cell_type": "markdown",
   "metadata": {},
   "source": [
    "#### Query perfume info\n",
    "Again, use the API with multiprocess."
   ]
  },
  {
   "cell_type": "code",
   "execution_count": 38,
   "metadata": {
    "ExecuteTime": {
     "end_time": "2021-06-09T08:54:41.422957Z",
     "start_time": "2021-06-09T08:54:41.415943Z"
    }
   },
   "outputs": [],
   "source": [
    "def crawl_item_detail(item_id):\n",
    "    import requests\n",
    "    import pandas as pd\n",
    "    headers = {\n",
    "    'User-Agent':'Mozilla/5.0 (Windows NT 6.1; WOW64) AppleWebKit/537.36 (KHTML, like Gecko) Chrome/63.0.3239.132 Safari/537.36 QIHU 360SE'\n",
    "    }\n",
    "    url = 'https://www.nosetime.com/app/item.php?id=' + item_id\n",
    "    try:\n",
    "        item = requests.get(url, headers=headers)\n",
    "        ss = pd.read_json(item.content,typ='series')\n",
    "    except:\n",
    "        ss = pd.Series({'id':item_id})\n",
    "    return ss"
   ]
  },
  {
   "cell_type": "code",
   "execution_count": 39,
   "metadata": {
    "ExecuteTime": {
     "end_time": "2021-06-09T09:05:34.095266Z",
     "start_time": "2021-06-09T08:54:42.133547Z"
    }
   },
   "outputs": [],
   "source": [
    "with Pool(10) as p:\n",
    "    res = p.map(crawl_item_detail, items['id'])\n",
    "\n",
    "res_df = pd.DataFrame(res).set_index('id')\n",
    "\n",
    "if len(res_df[res_df['title'].isna()]):\n",
    "    with Pool(10) as p:\n",
    "        res = p.map(crawl, res_df[res_df['title'].isna()].index)\n",
    "\n",
    "    res_df = res_df.combine_first(pd.DataFrame(res).set_index('id'))\n",
    "\n",
    "res_df[~res_df.index.isna()].to_csv('data/perfumes.csv', index=None)"
   ]
  }
 ],
 "metadata": {
  "kernelspec": {
   "display_name": "Python 3",
   "language": "python",
   "name": "python3"
  },
  "language_info": {
   "codemirror_mode": {
    "name": "ipython",
    "version": 3
   },
   "file_extension": ".py",
   "mimetype": "text/x-python",
   "name": "python",
   "nbconvert_exporter": "python",
   "pygments_lexer": "ipython3",
   "version": "3.8.8"
  },
  "toc": {
   "base_numbering": 1,
   "nav_menu": {},
   "number_sections": false,
   "sideBar": true,
   "skip_h1_title": false,
   "title_cell": "Table of Contents",
   "title_sidebar": "Contents",
   "toc_cell": false,
   "toc_position": {
    "height": "621.778px",
    "left": "32px",
    "top": "148.778px",
    "width": "341.319px"
   },
   "toc_section_display": true,
   "toc_window_display": true
  }
 },
 "nbformat": 4,
 "nbformat_minor": 4
}
